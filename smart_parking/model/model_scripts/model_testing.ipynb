{
 "cells": [
  {
   "cell_type": "code",
   "execution_count": null,
   "metadata": {},
   "outputs": [],
   "source": [
    "import os\n",
    "import shutil\n",
    "from tensorflow.keras.preprocessing import image\n",
    "from tensorflow.keras.models import load_model\n",
    "import numpy as np\n",
    "from tqdm import tqdm\n",
    "import threading\n",
    "\n",
    "def predict_single_image(model, img_path, target_size=(180, 180), threshold=0.5):\n",
    "    img = image.load_img(img_path, target_size=target_size)\n",
    "    img_array = image.img_to_array(img) / 255.0\n",
    "    img_array = np.expand_dims(img_array, axis=0)\n",
    "    prediction = model.predict(img_array, verbose=0)\n",
    "    return prediction[0][0] > threshold, prediction[0][0]\n",
    "\n",
    "def predict_images_in_folder(model, folder_path, target_size=(180, 180), threshold=0.5,\n",
    "                              no_car_output_folder=r'F:\\Github\\SMART_PARKING\\smart_parking\\model\\model_images\\train_images\\testcar'):\n",
    "    supported_formats = ('.jpg', '.jpeg', '.png', '.bmp', '.png')\n",
    "\n",
    "    total_images = 0\n",
    "    car_count = 0\n",
    "    no_car_count = 0\n",
    "\n",
    "    if not os.path.exists(no_car_output_folder):\n",
    "        os.makedirs(no_car_output_folder)\n",
    "\n",
    "    for filename in tqdm(os.listdir(folder_path), desc=\"Processing images (No Car)\", unit=\"image\"):\n",
    "        if filename.lower().endswith(supported_formats):\n",
    "            img_path = os.path.join(folder_path, filename)\n",
    "            is_car, confidence = predict_single_image(model, img_path, target_size, threshold)\n",
    "\n",
    "            total_images += 1\n",
    "            if is_car:\n",
    "                car_count += 1\n",
    "            else:\n",
    "                no_car_count += 1\n",
    "                shutil.move(img_path, os.path.join(no_car_output_folder, filename))\n",
    "\n",
    "    print(\"\\n📊 Summary Report - No Car Images\")\n",
    "    print(f\"Total images processed: {total_images}\")\n",
    "    print(f\"Cars detected: {car_count}\")\n",
    "    print(f\"No Cars detected: {no_car_count}\")\n",
    "    if total_images > 0:\n",
    "        car_percent = (car_count / total_images) * 100\n",
    "        print(f\"Car %: {car_percent:.2f}%\")\n",
    "\n",
    "def copy_car_images(model, folder_path, target_size=(180, 180), threshold=0.5,\n",
    "                    car_output_folder=r\"F:\\Github\\SMART_PARKING\\smart_parking\\model\\model_images\\train_images\\testnocar\"):\n",
    "    supported_formats = ('.jpg', '.jpeg', '.png', '.bmp', '.png')\n",
    "\n",
    "    total_images = 0\n",
    "    copied_count = 0\n",
    "\n",
    "    if not os.path.exists(car_output_folder):\n",
    "        os.makedirs(car_output_folder)\n",
    "\n",
    "    for filename in tqdm(os.listdir(folder_path), desc=\"Processing images (Car)\", unit=\"image\"):\n",
    "        if filename.lower().endswith(supported_formats):\n",
    "            img_path = os.path.join(folder_path, filename)\n",
    "            is_car, confidence = predict_single_image(model, img_path, target_size, threshold)\n",
    "\n",
    "            total_images += 1\n",
    "            if is_car:\n",
    "                copied_count += 1\n",
    "                shutil.move(img_path, os.path.join(car_output_folder, filename))\n",
    "\n",
    "    print(\"\\n✅ Car Images Move Report\")\n",
    "    print(f\"Total images processed: {total_images}\")\n",
    "    print(f\"Car images moved: {copied_count}\")\n",
    "\n",
    "# # 🚀 Load model\n",
    "# model = load_model(r'D:\\Games\\car_classifier.keras')\n",
    "\n",
    "# # 🧵 Set up threading for parallel execution\n",
    "# no_car_thread = threading.Thread(\n",
    "#     target=predict_images_in_folder,\n",
    "#     args=(model, r'F:\\Github\\SMART_PARKING\\smart_parking\\model\\model_images\\train_images\\1')\n",
    "# )\n",
    "\n",
    "# car_thread = threading.Thread(\n",
    "#     target=copy_car_images,\n",
    "#     args=(model, r'F:\\Github\\SMART_PARKING\\smart_parking\\model\\model_images\\train_images\\0')\n",
    "# )\n",
    "\n",
    "# # ✅ Start both threads\n",
    "# no_car_thread.start()\n",
    "# car_thread.start()\n",
    "\n",
    "# # ⏳ Wait for both to finish\n",
    "# no_car_thread.join()\n",
    "# car_thread.join()\n",
    "\n",
    "# print(\"\\n🏁 Both threads finished successfully!\")\n"
   ]
  },
  {
   "cell_type": "code",
   "execution_count": 5,
   "metadata": {},
   "outputs": [],
   "source": [
    "model = load_model(r'D:\\Games\\clean_car_classifier.keras')\n",
    "is_car, confidence = predict_single_image(model, r\"F:\\Python\\yolov8\\birdviewimg\\1_Spot_4.jpg\")"
   ]
  },
  {
   "cell_type": "code",
   "execution_count": 6,
   "metadata": {},
   "outputs": [
    {
     "data": {
      "text/plain": [
       "(np.True_, np.float32(1.0))"
      ]
     },
     "execution_count": 6,
     "metadata": {},
     "output_type": "execute_result"
    }
   ],
   "source": [
    "is_car, confidence"
   ]
  },
  {
   "cell_type": "code",
   "execution_count": null,
   "metadata": {},
   "outputs": [],
   "source": [
    "def return_result(is_car):\n",
    "    if is_car:\n",
    "        return \"Occupied\"\n",
    "    else:\n",
    "        return \"empty\""
   ]
  }
 ],
 "metadata": {
  "kernelspec": {
   "display_name": "gitvenv",
   "language": "python",
   "name": "python3"
  },
  "language_info": {
   "codemirror_mode": {
    "name": "ipython",
    "version": 3
   },
   "file_extension": ".py",
   "mimetype": "text/x-python",
   "name": "python",
   "nbconvert_exporter": "python",
   "pygments_lexer": "ipython3",
   "version": "3.12.5"
  }
 },
 "nbformat": 4,
 "nbformat_minor": 2
}
