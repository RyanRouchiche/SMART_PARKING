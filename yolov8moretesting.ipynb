{
 "cells": [
  {
   "cell_type": "code",
   "execution_count": 1,
   "metadata": {},
   "outputs": [],
   "source": [
    "from ultralytics import YOLO\n",
    "import cv2\n",
    "import numpy as np\n",
    "import torch"
   ]
  },
  {
   "cell_type": "code",
   "execution_count": 2,
   "metadata": {},
   "outputs": [
    {
     "name": "stdout",
     "output_type": "stream",
     "text": [
      "GPU is not available\n"
     ]
    }
   ],
   "source": [
    "if torch.cuda.is_available():   \n",
    "    print(\"GPU is available\")\n",
    "else:\n",
    "    print(\"GPU is not available\")"
   ]
  },
  {
   "cell_type": "code",
   "execution_count": 3,
   "metadata": {},
   "outputs": [],
   "source": [
    "# model = YOLO(\"weights\\yolov8l.pt\")\n",
    "# model_v12 = YOLO(\"weights/yolov8l.pt\")\n",
    "model_v11 = YOLO(\"weights/yolo11l.pt\")"
   ]
  },
  {
   "cell_type": "code",
   "execution_count": null,
   "metadata": {},
   "outputs": [
    {
     "name": "stdout",
     "output_type": "stream",
     "text": [
      "\n",
      "image 1/1 f:\\Github\\SMART_PARKING\\cropped_spots\\1_2.jpg: 224x640 2 cars, 151.8ms\n",
      "Speed: 0.7ms preprocess, 151.8ms inference, 0.5ms postprocess per image at shape (1, 3, 224, 640)\n"
     ]
    }
   ],
   "source": [
    "# image = cv2.imread(\"birdviewimg\\\\1_Spot_3.jpg\")\n",
    "# source = 'birdviewimg\\parking_1920_1080.mp4'\n",
    "# cap = cv2.VideoCapture(source)\n",
    "# if not cap.isOpened():\n",
    "#     print(\"Error: Could not open video.\")\n",
    "#     exit()\n",
    "# success, frame = cap.read()\n",
    "\n",
    "results_v11 = model_v11(\"cropped_spots\\\\1_1.jpg\")\n",
    "for result in results_v11:\n",
    "    result.show()\n",
    "\n",
    "# for result in results_v11:\n",
    "#     boxes = result.boxes.xyxy.cpu().numpy()  # Bounding boxes in xyxy format\n",
    "#     scores = result.boxes.conf.cpu().numpy()  # Confidence scores\n",
    "#     labels = result.boxes.cls.cpu().numpy()  # Class labels\n",
    "\n",
    "#     for box, score, label in zip(boxes, scores, labels):\n",
    "#         # Extract box coordinates\n",
    "#         x1, y1, x2, y2 = map(int, box)\n",
    "\n",
    "#         # Draw the bounding box\n",
    "#         cv2.rectangle(frame, (x1, y1), (x2, y2), (0, 255, 0), 2)\n",
    "\n",
    "#         # Put the label and confidence score on the bounding box\n",
    "#         label_text = f\"{model.names[int(label)]}: {score:.2f}\"\n",
    "#         cv2.putText(frame, label_text, (x1, y1 - 10), cv2.FONT_HERSHEY_SIMPLEX, 0.5, (0, 255, 0), 2)\n",
    "\n",
    "# Display the frame with bounding boxes\n",
    "# cv2.imshow(\"YOLOv8 Detection\", frame)\n",
    "\n",
    "# Release the video capture object and close all OpenCV windows\n",
    "# cap.release()\n",
    "# cv2.destroyAllWindows()\n",
    "\n",
    "# results = model(image)\n",
    "\n",
    "# results[0].show()"
   ]
  },
  {
   "cell_type": "code",
   "execution_count": null,
   "metadata": {},
   "outputs": [],
   "source": []
  }
 ],
 "metadata": {
  "kernelspec": {
   "display_name": "gitvenv",
   "language": "python",
   "name": "python3"
  },
  "language_info": {
   "codemirror_mode": {
    "name": "ipython",
    "version": 3
   },
   "file_extension": ".py",
   "mimetype": "text/x-python",
   "name": "python",
   "nbconvert_exporter": "python",
   "pygments_lexer": "ipython3",
   "version": "3.12.5"
  }
 },
 "nbformat": 4,
 "nbformat_minor": 2
}
